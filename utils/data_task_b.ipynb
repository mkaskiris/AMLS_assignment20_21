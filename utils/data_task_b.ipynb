{
 "cells": [
  {
   "cell_type": "code",
   "execution_count": 11,
   "metadata": {},
   "outputs": [
    {
     "ename": "SyntaxError",
     "evalue": "invalid syntax (<ipython-input-11-5dcf11856238>, line 30)",
     "output_type": "error",
     "traceback": [
      "\u001b[1;36m  File \u001b[1;32m\"<ipython-input-11-5dcf11856238>\"\u001b[1;36m, line \u001b[1;32m30\u001b[0m\n\u001b[1;33m    def evaluate()\u001b[0m\n\u001b[1;37m                  ^\u001b[0m\n\u001b[1;31mSyntaxError\u001b[0m\u001b[1;31m:\u001b[0m invalid syntax\n"
     ]
    }
   ],
   "source": [
    "import pandas as pd\n",
    "import numpy as np\n",
    "import cv2\n",
    "from sklearn.model_selection import train_test_split\n",
    "import tensorflow as tf\n",
    "\n",
    "def data(img_path, label_path,task):\n",
    "    if task == 'smile':\n",
    "        y = df.smiling\n",
    "    if task =='gender':\n",
    "        y = df.gender\n",
    "        \n",
    "    df = pd.read_csv(label_path, sep='\\s+')\n",
    "    df.replace(to_replace=-1, value=0, inplace=True) #replace -1 by 0\n",
    "\n",
    "    X = []\n",
    "    for x in df.img_name:\n",
    "        X.append(cv2.imread(img_path + x))\n",
    "\n",
    "        \n",
    "    X_train, X_test, y_train, y_test = train_test_split(X, y, test_size= 0.2, random_state=0,stratify=df.smiling)\n",
    "    X_train, X_val,y_train,y_val = train_test_split(X_train, y_train, test_size = 0.2, random_state=0,stratify=y_train)\n",
    "\n",
    "    y_train = tf.keras.utils.to_categorical(y_train)\n",
    "    y_val = tf.keras.utils.to_categorical(y_val)\n",
    "    y_test = tf.keras.utils.to_categorical(y_test)\n",
    "    \n",
    "    return np.array(X_train),y_train,np.array(X_val),y_val,np.array(X_test),y_test"
   ]
  },
  {
   "cell_type": "code",
   "execution_count": 8,
   "metadata": {},
   "outputs": [],
   "source": [
    "X_train,y_train,X_val,y_val,X_test,y_test = data('../dataset/celeba_test/img', '../dataset/celeba_test/labels.csv',task)"
   ]
  }
 ],
 "metadata": {
  "kernelspec": {
   "display_name": "Python 3",
   "language": "python",
   "name": "python3"
  },
  "language_info": {
   "codemirror_mode": {
    "name": "ipython",
    "version": 3
   },
   "file_extension": ".py",
   "mimetype": "text/x-python",
   "name": "python",
   "nbconvert_exporter": "python",
   "pygments_lexer": "ipython3",
   "version": "3.6.11"
  }
 },
 "nbformat": 4,
 "nbformat_minor": 4
}
