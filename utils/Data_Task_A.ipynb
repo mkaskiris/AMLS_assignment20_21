{
 "cells": [
  {
   "cell_type": "code",
   "execution_count": 17,
   "metadata": {},
   "outputs": [],
   "source": [
    "def get_path(path):\n",
    "    DIR = path\n",
    "    img_folder = path + '/img/'\n",
    "    labels = path + 'labels.csv'\n",
    "    \n",
    "    return DIR, img_folder, labels"
   ]
  },
  {
   "cell_type": "code",
   "execution_count": 2,
   "metadata": {},
   "outputs": [],
   "source": [
    "def crop_eyes(img_path):\n",
    "    img = cv2.imread(img_path) \n",
    "    return cv2.resize(img[250:280,190:220],(10,10))\n",
    "\n",
    "def crop_face(img_path):\n",
    "    img = cv2.imread(img_path) \n",
    "    return cv2.resize(img[280:400,150:350],(50,32))"
   ]
  },
  {
   "cell_type": "code",
   "execution_count": 3,
   "metadata": {},
   "outputs": [],
   "source": [
    "def get_faces(img_dir,df,DIR):\n",
    "    X = []\n",
    "    y = []\n",
    "\n",
    "    for x in df.iterrows():        \n",
    "        X.append(crop_eyes(DIR+x[0]))\n",
    "        y_face.append(x[1][1])\n",
    "        \n",
    "    return np.array(X).reshape(len(X),4800), np.array(y)"
   ]
  },
  {
   "cell_type": "code",
   "execution_count": 4,
   "metadata": {},
   "outputs": [],
   "source": [
    "def get_eyes(img_dir,df): #removes glasses and returns smaller images of eyes\n",
    "    comp = [[255,255,255]] #white row\n",
    "\n",
    "    X = []\n",
    "    y = []\n",
    "    \n",
    "    for i in df.iterrows():\n",
    "        ori = crop_eyes(img_dir+i[0]) #read and crop the eye\n",
    "        flat = np.array(ori).reshape(100,3)\n",
    "        for j in range(len(flat)-1): #compare rows\n",
    "            if (flat[j] == comp[0]).all(): #if the row is completelly white\n",
    "                X.append(ori)\n",
    "                y.append(i[1][0])\n",
    "                break\n",
    "    return np.array(X).reshape(len(X),300), np.array(y)"
   ]
  },
  {
   "cell_type": "code",
   "execution_count": 8,
   "metadata": {},
   "outputs": [],
   "source": [
    "def load_data_cartoon(DIR):\n",
    "    df = pd.read_csv(DIR + 'labels.csv', sep = '\\s+')\n",
    "    df.set_index('file_name',inplace=True)\n",
    "    \n",
    "    return df"
   ]
  },
  {
   "cell_type": "code",
   "execution_count": 21,
   "metadata": {},
   "outputs": [],
   "source": [
    "def split(X,y):\n",
    "\n",
    "    X_train, X_test, y_train, y_test = train_test_split(X, y, test_size = 0.2, random_state=42, stratify=y)\n",
    "\n",
    "    X_test = np.array(X_test)\n",
    "    y_test = np.array(y_test)\n",
    "\n",
    "    X_train, X_val, y_train, y_val = train_test_split(X_train, y_train, test_size = 0.2, random_state=42, stratify=y_train)\n",
    "\n",
    "    X_train = np.array(X_train)\n",
    "    y_train = np.array(y_train)\n",
    "\n",
    "    X_val = np.array(X_val)\n",
    "    y_val = np.array(y_val)\n",
    "    \n",
    "    return X_train,y_train,X_val,y_val,X_test,y_test"
   ]
  },
  {
   "cell_type": "code",
   "execution_count": 22,
   "metadata": {},
   "outputs": [],
   "source": [
    "import pandas as pd\n",
    "import cv2\n",
    "import numpy as np\n",
    "from sklearn.model_selection import train_test_split\n",
    "def data_preprocessing(path, task):\n",
    "    DIR, img_dir, labels = get_path(path)\n",
    "    df = load_data_cartoon(DIR)\n",
    "    if task == 'eyes':\n",
    "        X,y = get_eyes(img_dir,df)\n",
    "    if task == 'faces':\n",
    "        X,y = get_faces(img_dir,df)\n",
    "    return split(X,y)"
   ]
  },
  {
   "cell_type": "code",
   "execution_count": 23,
   "metadata": {},
   "outputs": [],
   "source": [
    "basedir = '../dataset/cartoon_set_test/'\n",
    "img_folder = basedir + 'img/'\n",
    "labels = basedir + 'labels.csv'\n",
    "task = 'eyes'\n",
    "\n",
    "X_train,y_train,X_val,y_val,X_test,y_test = data_preprocessing(basedir, task)"
   ]
  },
  {
   "cell_type": "code",
   "execution_count": null,
   "metadata": {},
   "outputs": [],
   "source": []
  }
 ],
 "metadata": {
  "kernelspec": {
   "display_name": "Python 3",
   "language": "python",
   "name": "python3"
  },
  "language_info": {
   "codemirror_mode": {
    "name": "ipython",
    "version": 3
   },
   "file_extension": ".py",
   "mimetype": "text/x-python",
   "name": "python",
   "nbconvert_exporter": "python",
   "pygments_lexer": "ipython3",
   "version": "3.6.11"
  }
 },
 "nbformat": 4,
 "nbformat_minor": 4
}
